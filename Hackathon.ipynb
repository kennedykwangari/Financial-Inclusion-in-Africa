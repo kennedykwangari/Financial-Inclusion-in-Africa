{
  "nbformat": 4,
  "nbformat_minor": 0,
  "metadata": {
    "colab": {
      "name": "Hackathon.ipynb",
      "provenance": [],
      "collapsed_sections": []
    },
    "kernelspec": {
      "name": "python3",
      "display_name": "Python 3"
    }
  },
  "cells": [
    {
      "cell_type": "code",
      "metadata": {
        "id": "Mf94oMdOpkPZ",
        "colab_type": "code",
        "outputId": "6ca872f5-793e-4bdf-e133-43b9c929ddf8",
        "colab": {
          "resources": {
            "http://localhost:8080/nbextensions/google.colab/files.js": {
              "data": "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",
              "ok": true,
              "headers": [
                [
                  "content-type",
                  "application/javascript"
                ]
              ],
              "status": 200,
              "status_text": ""
            }
          },
          "base_uri": "https://localhost:8080/",
          "height": 57
        }
      },
      "source": [
        "from google.colab import files\n",
        "uploaded = files.upload()"
      ],
      "execution_count": 0,
      "outputs": [
        {
          "output_type": "display_data",
          "data": {
            "text/html": [
              "\n",
              "     <input type=\"file\" id=\"files-e80e3925-064a-4087-9c9c-6d424a587ccb\" name=\"files[]\" multiple disabled />\n",
              "     <output id=\"result-e80e3925-064a-4087-9c9c-6d424a587ccb\">\n",
              "      Upload widget is only available when the cell has been executed in the\n",
              "      current browser session. Please rerun this cell to enable.\n",
              "      </output>\n",
              "      <script src=\"/nbextensions/google.colab/files.js\"></script> "
            ],
            "text/plain": [
              "<IPython.core.display.HTML object>"
            ]
          },
          "metadata": {
            "tags": []
          }
        }
      ]
    },
    {
      "cell_type": "code",
      "metadata": {
        "id": "1lyjEQAOppHH",
        "colab_type": "code",
        "colab": {}
      },
      "source": [
        "# here we will impor the libraries used for machine learning\n",
        "import numpy as np # linear algebra\n",
        "import pandas as pd # data processing, CSV file I/O (e.g. pd.read_csv), data manipulation as in SQL\n",
        "import matplotlib.pyplot as plt # this is used for the plot the graph \n",
        "import seaborn as sns # used for plot interactive graph. I like it most for plot\n",
        "%matplotlib inline\n",
        "\n",
        "\n",
        "from sklearn.linear_model import LogisticRegression # to apply the Logistic regression\n",
        "from sklearn.model_selection import train_test_split,GridSearchCV  # to split the data into two parts\n",
        "from sklearn.model_selection import KFold, cross_val_score  # use for K- fold cross validation\n",
        "from sklearn.model_selection import GridSearchCV# for tuning parameter\n",
        "from sklearn import metrics # for the check the error and accuracy of the model\n",
        "from sklearn.ensemble import RandomForestClassifier # for random forest classifier\n",
        "from sklearn.naive_bayes import GaussianNB\n",
        "from sklearn.neighbors import KNeighborsClassifier\n",
        "from sklearn.tree import DecisionTreeClassifier\n",
        "from sklearn import svm # for Support Vector Machine\n",
        "from sklearn import metrics # for the check the error and accuracy of the model\n",
        "\n",
        "from sklearn.model_selection import train_test_split, GridSearchCV, StratifiedKFold\n",
        "\n",
        "from sklearn.metrics import roc_curve, precision_recall_curve, auc, make_scorer, recall_score, accuracy_score,average_precision_score, precision_score, confusion_matrix, classification_report"
      ],
      "execution_count": 0,
      "outputs": []
    },
    {
      "cell_type": "code",
      "metadata": {
        "id": "-ymgoVJdsE0l",
        "colab_type": "code",
        "colab": {}
      },
      "source": [
        "from sklearn.model_selection import GridSearchCV# for tuning parameter\n",
        "import matplotlib.pyplot as plt # this is used for the plot the graph \n",
        "import seaborn as sns # used for plot interactive graph. I like it most for plot\n",
        "%matplotlib inline\n",
        "import numpy as np # linear algebra\n",
        "import pandas as pd # data processing, CSV file I/O (e.g. pd.read_csv), data manipulation as in SQL\n",
        "from sklearn.model_selection import RandomizedSearchCV\n",
        "from sklearn.model_selection import cross_val_score\n",
        "\n",
        "\n",
        "from sklearn.naive_bayes import GaussianNB\n",
        "from sklearn.neighbors import KNeighborsClassifier\n",
        "from sklearn.tree import DecisionTreeClassifier\n",
        "from sklearn.svm import SVC\n",
        "from sklearn.ensemble import RandomForestClassifier\n",
        "from sklearn.ensemble import AdaBoostClassifier"
      ],
      "execution_count": 0,
      "outputs": []
    },
    {
      "cell_type": "code",
      "metadata": {
        "id": "nXAU5UreppQo",
        "colab_type": "code",
        "outputId": "d554ee1d-65d5-4dbc-9ac2-d7a32a993f4f",
        "colab": {
          "base_uri": "https://localhost:8080/",
          "height": 340
        }
      },
      "source": [
        "train = pd.read_csv('Train_v2.csv')\n",
        "test  = pd.read_csv('Test_v2.csv')\n",
        "full_data = [train, test]\n",
        "print (train.info())"
      ],
      "execution_count": 0,
      "outputs": [
        {
          "output_type": "stream",
          "text": [
            "<class 'pandas.core.frame.DataFrame'>\n",
            "RangeIndex: 23524 entries, 0 to 23523\n",
            "Data columns (total 13 columns):\n",
            "country                   23524 non-null object\n",
            "year                      23524 non-null int64\n",
            "uniqueid                  23524 non-null object\n",
            "bank_account              23524 non-null object\n",
            "location_type             23524 non-null object\n",
            "cellphone_access          23524 non-null object\n",
            "household_size            23524 non-null int64\n",
            "age_of_respondent         23524 non-null int64\n",
            "gender_of_respondent      23524 non-null object\n",
            "relationship_with_head    23524 non-null object\n",
            "marital_status            23524 non-null object\n",
            "education_level           23524 non-null object\n",
            "job_type                  23524 non-null object\n",
            "dtypes: int64(3), object(10)\n",
            "memory usage: 2.3+ MB\n",
            "None\n"
          ],
          "name": "stdout"
        }
      ]
    },
    {
      "cell_type": "code",
      "metadata": {
        "id": "ljHvSXGLppaR",
        "colab_type": "code",
        "colab": {}
      },
      "source": [
        "split=train.shape[0]\n",
        "dataset=pd.concat([train,test],axis=0)"
      ],
      "execution_count": 0,
      "outputs": []
    },
    {
      "cell_type": "code",
      "metadata": {
        "id": "H3pcfsqIsNcu",
        "colab_type": "code",
        "outputId": "b259994a-4b70-454a-d0a4-02a2b0f12be7",
        "colab": {
          "base_uri": "https://localhost:8080/",
          "height": 51
        }
      },
      "source": [
        "print('This dataset contains ',dataset.shape[0],'rows')\n",
        "print('This dataset contains ',dataset.shape[1],'columns')"
      ],
      "execution_count": 0,
      "outputs": [
        {
          "output_type": "stream",
          "text": [
            "This dataset contains  33610 rows\n",
            "This dataset contains  13 columns\n"
          ],
          "name": "stdout"
        }
      ]
    },
    {
      "cell_type": "code",
      "metadata": {
        "id": "Ix3qjbWkqlbU",
        "colab_type": "code",
        "outputId": "36119d28-e491-46ce-f5ff-3284640dab23",
        "colab": {
          "base_uri": "https://localhost:8080/",
          "height": 218
        }
      },
      "source": [
        "plt.figure(figsize=(3,3))\n",
        "pd.Series(dataset['bank_account']).value_counts().plot(kind ='pie', autopct='%1.2f%%')"
      ],
      "execution_count": 0,
      "outputs": [
        {
          "output_type": "execute_result",
          "data": {
            "text/plain": [
              "<matplotlib.axes._subplots.AxesSubplot at 0x7f8b5d3c2588>"
            ]
          },
          "metadata": {
            "tags": []
          },
          "execution_count": 11
        },
        {
          "output_type": "display_data",
          "data": {
            "image/png": "[encoded data removed]",
            "text/plain": [
              "<Figure size 216x216 with 1 Axes>"
            ]
          },
          "metadata": {
            "tags": []
          }
        }
      ]
    },
    {
      "cell_type": "code",
      "metadata": {
        "id": "WibgwJXerQeX",
        "colab_type": "code",
        "outputId": "76aedb61-6e65-4e5d-f2f8-915a72d54685",
        "colab": {
          "base_uri": "https://localhost:8080/",
          "height": 420
        }
      },
      "source": [
        "M,B=train['bank_account'].value_counts()\n",
        "print('No Bank Account: ' ,M)\n",
        "print('Yes Bank Account: ' ,B)\n",
        "sns.catplot(x='bank_account',kind='count',data=train, palette=\"husl\")"
      ],
      "execution_count": 0,
      "outputs": [
        {
          "output_type": "stream",
          "text": [
            "No Bank Account:  20212\n",
            "Yes Bank Account:  3312\n"
          ],
          "name": "stdout"
        },
        {
          "output_type": "execute_result",
          "data": {
            "text/plain": [
              "<seaborn.axisgrid.FacetGrid at 0x7f8b826037b8>"
            ]
          },
          "metadata": {
            "tags": []
          },
          "execution_count": 12
        },
        {
          "output_type": "display_data",
          "data": {
            "image/png": "[encoded data removed]",
            "text/plain": [
              "<Figure size 360x360 with 1 Axes>"
            ]
          },
          "metadata": {
            "tags": []
          }
        }
      ]
    },
    {
      "cell_type": "code",
      "metadata": {
        "id": "DutQRBHOqdhv",
        "colab_type": "code",
        "outputId": "85de618e-3454-45b2-a7c9-dc0b54dd98fe",
        "colab": {
          "base_uri": "https://localhost:8080/",
          "height": 452
        }
      },
      "source": [
        "# Checking the missing values\n",
        "\n",
        "missing_df =train.isnull().sum(axis=0).reset_index()\n",
        "missing_df.columns = ['Column Name', 'Missing Values Count']\n",
        "missing_df['Filling Factor (%)']=(train.shape[0]-missing_df['Missing Values Count'])/train.shape[0]*100\n",
        "missing_df.sort_values('Filling Factor (%)').reset_index(drop = True)"
      ],
      "execution_count": 0,
      "outputs": [
        {
          "output_type": "execute_result",
          "data": {
            "text/html": [
              "<div>\n",
              "<style scoped>\n",
              "    .dataframe tbody tr th:only-of-type {\n",
              "        vertical-align: middle;\n",
              "    }\n",
              "\n",
              "    .dataframe tbody tr th {\n",
              "        vertical-align: top;\n",
              "    }\n",
              "\n",
              "    .dataframe thead th {\n",
              "        text-align: right;\n",
              "    }\n",
              "</style>\n",
              "<table border=\"1\" class=\"dataframe\">\n",
              "  <thead>\n",
              "    <tr style=\"text-align: right;\">\n",
              "      <th></th>\n",
              "      <th>Column Name</th>\n",
              "      <th>Missing Values Count</th>\n",
              "      <th>Filling Factor (%)</th>\n",
              "    </tr>\n",
              "  </thead>\n",
              "  <tbody>\n",
              "    <tr>\n",
              "      <th>0</th>\n",
              "      <td>country</td>\n",
              "      <td>0</td>\n",
              "      <td>100.0</td>\n",
              "    </tr>\n",
              "    <tr>\n",
              "      <th>1</th>\n",
              "      <td>year</td>\n",
              "      <td>0</td>\n",
              "      <td>100.0</td>\n",
              "    </tr>\n",
              "    <tr>\n",
              "      <th>2</th>\n",
              "      <td>uniqueid</td>\n",
              "      <td>0</td>\n",
              "      <td>100.0</td>\n",
              "    </tr>\n",
              "    <tr>\n",
              "      <th>3</th>\n",
              "      <td>bank_account</td>\n",
              "      <td>0</td>\n",
              "      <td>100.0</td>\n",
              "    </tr>\n",
              "    <tr>\n",
              "      <th>4</th>\n",
              "      <td>location_type</td>\n",
              "      <td>0</td>\n",
              "      <td>100.0</td>\n",
              "    </tr>\n",
              "    <tr>\n",
              "      <th>5</th>\n",
              "      <td>cellphone_access</td>\n",
              "      <td>0</td>\n",
              "      <td>100.0</td>\n",
              "    </tr>\n",
              "    <tr>\n",
              "      <th>6</th>\n",
              "      <td>household_size</td>\n",
              "      <td>0</td>\n",
              "      <td>100.0</td>\n",
              "    </tr>\n",
              "    <tr>\n",
              "      <th>7</th>\n",
              "      <td>age_of_respondent</td>\n",
              "      <td>0</td>\n",
              "      <td>100.0</td>\n",
              "    </tr>\n",
              "    <tr>\n",
              "      <th>8</th>\n",
              "      <td>gender_of_respondent</td>\n",
              "      <td>0</td>\n",
              "      <td>100.0</td>\n",
              "    </tr>\n",
              "    <tr>\n",
              "      <th>9</th>\n",
              "      <td>relationship_with_head</td>\n",
              "      <td>0</td>\n",
              "      <td>100.0</td>\n",
              "    </tr>\n",
              "    <tr>\n",
              "      <th>10</th>\n",
              "      <td>marital_status</td>\n",
              "      <td>0</td>\n",
              "      <td>100.0</td>\n",
              "    </tr>\n",
              "    <tr>\n",
              "      <th>11</th>\n",
              "      <td>education_level</td>\n",
              "      <td>0</td>\n",
              "      <td>100.0</td>\n",
              "    </tr>\n",
              "    <tr>\n",
              "      <th>12</th>\n",
              "      <td>job_type</td>\n",
              "      <td>0</td>\n",
              "      <td>100.0</td>\n",
              "    </tr>\n",
              "  </tbody>\n",
              "</table>\n",
              "</div>"
            ],
            "text/plain": [
              "               Column Name  Missing Values Count  Filling Factor (%)\n",
              "0                  country                     0               100.0\n",
              "1                     year                     0               100.0\n",
              "2                 uniqueid                     0               100.0\n",
              "3             bank_account                     0               100.0\n",
              "4            location_type                     0               100.0\n",
              "5         cellphone_access                     0               100.0\n",
              "6           household_size                     0               100.0\n",
              "7        age_of_respondent                     0               100.0\n",
              "8     gender_of_respondent                     0               100.0\n",
              "9   relationship_with_head                     0               100.0\n",
              "10          marital_status                     0               100.0\n",
              "11         education_level                     0               100.0\n",
              "12                job_type                     0               100.0"
            ]
          },
          "metadata": {
            "tags": []
          },
          "execution_count": 13
        }
      ]
    },
    {
      "cell_type": "code",
      "metadata": {
        "id": "W2t_OBbYrqQf",
        "colab_type": "code",
        "outputId": "637fe7b6-b80c-4951-b3b8-cd302aa3fce4",
        "colab": {
          "base_uri": "https://localhost:8080/",
          "height": 224
        }
      },
      "source": [
        "Yes=train.loc[train['bank_account']=='Yes',:]\n",
        "Yes.head(3)"
      ],
      "execution_count": 0,
      "outputs": [
        {
          "output_type": "execute_result",
          "data": {
            "text/html": [
              "<div>\n",
              "<style scoped>\n",
              "    .dataframe tbody tr th:only-of-type {\n",
              "        vertical-align: middle;\n",
              "    }\n",
              "\n",
              "    .dataframe tbody tr th {\n",
              "        vertical-align: top;\n",
              "    }\n",
              "\n",
              "    .dataframe thead th {\n",
              "        text-align: right;\n",
              "    }\n",
              "</style>\n",
              "<table border=\"1\" class=\"dataframe\">\n",
              "  <thead>\n",
              "    <tr style=\"text-align: right;\">\n",
              "      <th></th>\n",
              "      <th>country</th>\n",
              "      <th>year</th>\n",
              "      <th>uniqueid</th>\n",
              "      <th>bank_account</th>\n",
              "      <th>location_type</th>\n",
              "      <th>cellphone_access</th>\n",
              "      <th>household_size</th>\n",
              "      <th>age_of_respondent</th>\n",
              "      <th>gender_of_respondent</th>\n",
              "      <th>relationship_with_head</th>\n",
              "      <th>marital_status</th>\n",
              "      <th>education_level</th>\n",
              "      <th>job_type</th>\n",
              "    </tr>\n",
              "  </thead>\n",
              "  <tbody>\n",
              "    <tr>\n",
              "      <th>0</th>\n",
              "      <td>Kenya</td>\n",
              "      <td>2018</td>\n",
              "      <td>uniqueid_1</td>\n",
              "      <td>Yes</td>\n",
              "      <td>Rural</td>\n",
              "      <td>Yes</td>\n",
              "      <td>3</td>\n",
              "      <td>24</td>\n",
              "      <td>Female</td>\n",
              "      <td>Spouse</td>\n",
              "      <td>Married/Living together</td>\n",
              "      <td>Secondary education</td>\n",
              "      <td>Self employed</td>\n",
              "    </tr>\n",
              "    <tr>\n",
              "      <th>2</th>\n",
              "      <td>Kenya</td>\n",
              "      <td>2018</td>\n",
              "      <td>uniqueid_3</td>\n",
              "      <td>Yes</td>\n",
              "      <td>Urban</td>\n",
              "      <td>Yes</td>\n",
              "      <td>5</td>\n",
              "      <td>26</td>\n",
              "      <td>Male</td>\n",
              "      <td>Other relative</td>\n",
              "      <td>Single/Never Married</td>\n",
              "      <td>Vocational/Specialised training</td>\n",
              "      <td>Self employed</td>\n",
              "    </tr>\n",
              "    <tr>\n",
              "      <th>8</th>\n",
              "      <td>Kenya</td>\n",
              "      <td>2018</td>\n",
              "      <td>uniqueid_9</td>\n",
              "      <td>Yes</td>\n",
              "      <td>Rural</td>\n",
              "      <td>Yes</td>\n",
              "      <td>3</td>\n",
              "      <td>54</td>\n",
              "      <td>Male</td>\n",
              "      <td>Head of Household</td>\n",
              "      <td>Married/Living together</td>\n",
              "      <td>Secondary education</td>\n",
              "      <td>Farming and Fishing</td>\n",
              "    </tr>\n",
              "  </tbody>\n",
              "</table>\n",
              "</div>"
            ],
            "text/plain": [
              "  country  year  ...                  education_level             job_type\n",
              "0   Kenya  2018  ...              Secondary education        Self employed\n",
              "2   Kenya  2018  ...  Vocational/Specialised training        Self employed\n",
              "8   Kenya  2018  ...              Secondary education  Farming and Fishing\n",
              "\n",
              "[3 rows x 13 columns]"
            ]
          },
          "metadata": {
            "tags": []
          },
          "execution_count": 16
        }
      ]
    },
    {
      "cell_type": "code",
      "metadata": {
        "id": "RL4OvimTrz1O",
        "colab_type": "code",
        "outputId": "afa8477d-6868-40f4-9aca-d36f64d4ec68",
        "colab": {
          "base_uri": "https://localhost:8080/",
          "height": 224
        }
      },
      "source": [
        "No=train.loc[train['bank_account']=='No',:]\n",
        "No.head(3)"
      ],
      "execution_count": 0,
      "outputs": [
        {
          "output_type": "execute_result",
          "data": {
            "text/html": [
              "<div>\n",
              "<style scoped>\n",
              "    .dataframe tbody tr th:only-of-type {\n",
              "        vertical-align: middle;\n",
              "    }\n",
              "\n",
              "    .dataframe tbody tr th {\n",
              "        vertical-align: top;\n",
              "    }\n",
              "\n",
              "    .dataframe thead th {\n",
              "        text-align: right;\n",
              "    }\n",
              "</style>\n",
              "<table border=\"1\" class=\"dataframe\">\n",
              "  <thead>\n",
              "    <tr style=\"text-align: right;\">\n",
              "      <th></th>\n",
              "      <th>country</th>\n",
              "      <th>year</th>\n",
              "      <th>uniqueid</th>\n",
              "      <th>bank_account</th>\n",
              "      <th>location_type</th>\n",
              "      <th>cellphone_access</th>\n",
              "      <th>household_size</th>\n",
              "      <th>age_of_respondent</th>\n",
              "      <th>gender_of_respondent</th>\n",
              "      <th>relationship_with_head</th>\n",
              "      <th>marital_status</th>\n",
              "      <th>education_level</th>\n",
              "      <th>job_type</th>\n",
              "    </tr>\n",
              "  </thead>\n",
              "  <tbody>\n",
              "    <tr>\n",
              "      <th>1</th>\n",
              "      <td>Kenya</td>\n",
              "      <td>2018</td>\n",
              "      <td>uniqueid_2</td>\n",
              "      <td>No</td>\n",
              "      <td>Rural</td>\n",
              "      <td>No</td>\n",
              "      <td>5</td>\n",
              "      <td>70</td>\n",
              "      <td>Female</td>\n",
              "      <td>Head of Household</td>\n",
              "      <td>Widowed</td>\n",
              "      <td>No formal education</td>\n",
              "      <td>Government Dependent</td>\n",
              "    </tr>\n",
              "    <tr>\n",
              "      <th>3</th>\n",
              "      <td>Kenya</td>\n",
              "      <td>2018</td>\n",
              "      <td>uniqueid_4</td>\n",
              "      <td>No</td>\n",
              "      <td>Rural</td>\n",
              "      <td>Yes</td>\n",
              "      <td>5</td>\n",
              "      <td>34</td>\n",
              "      <td>Female</td>\n",
              "      <td>Head of Household</td>\n",
              "      <td>Married/Living together</td>\n",
              "      <td>Primary education</td>\n",
              "      <td>Formally employed Private</td>\n",
              "    </tr>\n",
              "    <tr>\n",
              "      <th>4</th>\n",
              "      <td>Kenya</td>\n",
              "      <td>2018</td>\n",
              "      <td>uniqueid_5</td>\n",
              "      <td>No</td>\n",
              "      <td>Urban</td>\n",
              "      <td>No</td>\n",
              "      <td>8</td>\n",
              "      <td>26</td>\n",
              "      <td>Male</td>\n",
              "      <td>Child</td>\n",
              "      <td>Single/Never Married</td>\n",
              "      <td>Primary education</td>\n",
              "      <td>Informally employed</td>\n",
              "    </tr>\n",
              "  </tbody>\n",
              "</table>\n",
              "</div>"
            ],
            "text/plain": [
              "  country  year  ...      education_level                   job_type\n",
              "1   Kenya  2018  ...  No formal education       Government Dependent\n",
              "3   Kenya  2018  ...    Primary education  Formally employed Private\n",
              "4   Kenya  2018  ...    Primary education        Informally employed\n",
              "\n",
              "[3 rows x 13 columns]"
            ]
          },
          "metadata": {
            "tags": []
          },
          "execution_count": 17
        }
      ]
    },
    {
      "cell_type": "code",
      "metadata": {
        "id": "jG11qdIztAkq",
        "colab_type": "code",
        "colab": {}
      },
      "source": [
        "dataset.drop(['uniqueid'],inplace=True,axis=1)"
      ],
      "execution_count": 0,
      "outputs": []
    },
    {
      "cell_type": "code",
      "metadata": {
        "id": "Rt9Q7pjIsbzb",
        "colab_type": "code",
        "colab": {}
      },
      "source": [
        "# Converted to binary the target to help later with  Modelling and Plots \n",
        "\n",
        "dataset['bank_account'] = dataset['bank_account'].map({'Yes':1, 'No':0})"
      ],
      "execution_count": 0,
      "outputs": []
    },
    {
      "cell_type": "code",
      "metadata": {
        "id": "uGpxcjJ3salF",
        "colab_type": "code",
        "outputId": "d8dc8e08-e681-4c4c-c748-04b9decd64b1",
        "colab": {
          "base_uri": "https://localhost:8080/",
          "height": 371
        }
      },
      "source": [
        "# Observe the Correlation to the diagnosis\n",
        "\n",
        "tst = dataset.corr()['bank_account'].copy()\n",
        "tst = tst.drop('bank_account')\n",
        "tst.sort_values(inplace=True)\n",
        "tst.plot(kind='bar', alpha=0.6)"
      ],
      "execution_count": 0,
      "outputs": [
        {
          "output_type": "execute_result",
          "data": {
            "text/plain": [
              "<matplotlib.axes._subplots.AxesSubplot at 0x7f8b5aac6128>"
            ]
          },
          "metadata": {
            "tags": []
          },
          "execution_count": 16
        },
        {
          "output_type": "display_data",
          "data": {
            "image/png": "[encoded data removed]",
            "text/plain": [
              "<Figure size 432x288 with 1 Axes>"
            ]
          },
          "metadata": {
            "tags": []
          }
        }
      ]
    },
    {
      "cell_type": "code",
      "metadata": {
        "id": "T9YzcxT7szuc",
        "colab_type": "code",
        "outputId": "943941e8-92a2-4380-e8be-1317b277778a",
        "colab": {
          "base_uri": "https://localhost:8080/",
          "height": 296
        }
      },
      "source": [
        "# Radius.Mean Visualization\n",
        "# Density Plot and Histogram of radius.mean variable of the dataset\n",
        "\n",
        "\n",
        "sns.distplot(dataset.household_size, \n",
        "             bins=80, color = 'darkblue', \n",
        "             hist_kws={'edgecolor':'black'},\n",
        "             kde_kws={'linewidth': 2})\n",
        "plt.title('Density plot and Histogram of Amount (in €)')\n",
        "plt.show()"
      ],
      "execution_count": 0,
      "outputs": [
        {
          "output_type": "display_data",
          "data": {
            "image/png": "[encoded data removed]",
            "text/plain": [
              "<Figure size 432x288 with 1 Axes>"
            ]
          },
          "metadata": {
            "tags": []
          }
        }
      ]
    },
    {
      "cell_type": "code",
      "metadata": {
        "id": "AkHXB-GEs_qE",
        "colab_type": "code",
        "outputId": "01b4a1be-08f5-4fce-a260-354abc476d13",
        "colab": {
          "base_uri": "https://localhost:8080/",
          "height": 367
        }
      },
      "source": [
        "# Pandas Scatter Matrix\n",
        "\n",
        "from pandas.plotting import scatter_matrix\n",
        "\n",
        "fig = plt.figure(figsize=(6,6))\n",
        "ax = fig.add_subplot(111)\n",
        "cax = ax.matshow(dataset.corr(), vmin=-1, vmax=1, interpolation='none')\n",
        "fig.colorbar(cax)\n",
        "plt.show()"
      ],
      "execution_count": 0,
      "outputs": [
        {
          "output_type": "display_data",
          "data": {
            "image/png": "[encoded data removed]",
            "text/plain": [
              "<Figure size 432x432 with 2 Axes>"
            ]
          },
          "metadata": {
            "tags": []
          }
        }
      ]
    },
    {
      "cell_type": "code",
      "metadata": {
        "id": "OTyeyakltdkg",
        "colab_type": "code",
        "outputId": "0e875695-5a2b-45ba-9741-b5911e3aeace",
        "colab": {
          "base_uri": "https://localhost:8080/",
          "height": 386
        }
      },
      "source": [
        "sns.lmplot(x = 'age_of_respondent', y= 'household_size', hue = 'bank_account',data = dataset)"
      ],
      "execution_count": 0,
      "outputs": [
        {
          "output_type": "execute_result",
          "data": {
            "text/plain": [
              "<seaborn.axisgrid.FacetGrid at 0x7f8b5aa9c9b0>"
            ]
          },
          "metadata": {
            "tags": []
          },
          "execution_count": 19
        },
        {
          "output_type": "display_data",
          "data": {
            "image/png": "[encoded data removed]",
            "text/plain": [
              "<Figure size 437.25x360 with 1 Axes>"
            ]
          },
          "metadata": {
            "tags": []
          }
        }
      ]
    },
    {
      "cell_type": "code",
      "metadata": {
        "id": "jK6upwnGttZT",
        "colab_type": "code",
        "outputId": "28026053-e667-4150-8687-e8a32d65b656",
        "colab": {
          "base_uri": "https://localhost:8080/",
          "height": 371
        }
      },
      "source": [
        "# Generating the correlation heatmap\n",
        "\n",
        "corr = dataset.corr()\n",
        "sns.heatmap(corr)"
      ],
      "execution_count": 0,
      "outputs": [
        {
          "output_type": "execute_result",
          "data": {
            "text/plain": [
              "<matplotlib.axes._subplots.AxesSubplot at 0x7f8b592f2588>"
            ]
          },
          "metadata": {
            "tags": []
          },
          "execution_count": 23
        },
        {
          "output_type": "display_data",
          "data": {
            "image/png": "[encoded data removed]",
            "text/plain": [
              "<Figure size 432x288 with 2 Axes>"
            ]
          },
          "metadata": {
            "tags": []
          }
        }
      ]
    },
    {
      "cell_type": "code",
      "metadata": {
        "id": "gTs5Ey5xtxiP",
        "colab_type": "code",
        "outputId": "a89f7268-7e80-4e68-b94e-7d106f791999",
        "colab": {
          "base_uri": "https://localhost:8080/",
          "height": 441
        }
      },
      "source": [
        "# Distribution density plot KDE (kernel density estimate)\n",
        "\n",
        "sns.FacetGrid(dataset, hue=\"bank_account\", height=6).map(sns.kdeplot, \"year\").add_legend()\n",
        "plt.show()"
      ],
      "execution_count": 0,
      "outputs": [
        {
          "output_type": "display_data",
          "data": {
            "image/png": "[encoded data removed]",
            "text/plain": [
              "<Figure size 509.25x432 with 1 Axes>"
            ]
          },
          "metadata": {
            "tags": []
          }
        }
      ]
    },
    {
      "cell_type": "code",
      "metadata": {
        "id": "GDzD61XKuAkB",
        "colab_type": "code",
        "outputId": "c5ca2fba-8451-4a94-ce24-a0b9cd41b41b",
        "colab": {
          "base_uri": "https://localhost:8080/",
          "height": 458
        }
      },
      "source": [
        "sns.jointplot(\"year\", \"household_size\", data=dataset, kind=\"reg\")"
      ],
      "execution_count": 0,
      "outputs": [
        {
          "output_type": "execute_result",
          "data": {
            "text/plain": [
              "<seaborn.axisgrid.JointGrid at 0x7f8b5d506e80>"
            ]
          },
          "metadata": {
            "tags": []
          },
          "execution_count": 21
        },
        {
          "output_type": "display_data",
          "data": {
            "image/png": "[encoded data removed]",
            "text/plain": [
              "<Figure size 432x432 with 3 Axes>"
            ]
          },
          "metadata": {
            "tags": []
          }
        }
      ]
    },
    {
      "cell_type": "code",
      "metadata": {
        "id": "ZWDgiazWtf07",
        "colab_type": "code",
        "colab": {}
      },
      "source": [
        "from sklearn.preprocessing import LabelEncoder, OneHotEncoder\n",
        "\n",
        "L_en = LabelEncoder()\n",
        "O_en = OneHotEncoder(sparse=False)\n",
        "\n",
        "one_hot_categories = ['country','education_level','gender_of_respondent','location_type','job_type', 'cellphone_access', 'relationship_with_head', 'marital_status'] #attributes to convert to 1hot\n",
        "\n",
        "for category in one_hot_categories: #iterate over attributes\n",
        "    out1 = L_en.fit_transform(dataset[[category]].values.ravel())    \n",
        "    out2 = O_en.fit_transform(out1.reshape(-1,1)).astype('int')\n",
        "\n",
        "    for i, name in enumerate(L_en.classes_):\n",
        "            dataset[name] = out2[:,i] # make new column filled with 0s, 1s\n",
        "\n",
        "dataset.drop(one_hot_categories , axis=1, inplace=True) #drop original colsdf"
      ],
      "execution_count": 0,
      "outputs": []
    },
    {
      "cell_type": "code",
      "metadata": {
        "id": "poRUMiGwscdd",
        "colab_type": "code",
        "colab": {}
      },
      "source": [
        "dataset['bank_account']=dataset['bank_account'].map({'Yes':1,'No':0})"
      ],
      "execution_count": 0,
      "outputs": []
    },
    {
      "cell_type": "code",
      "metadata": {
        "id": "COagjNahtIN3",
        "colab_type": "code",
        "colab": {}
      },
      "source": [
        "\n",
        "# Normalizing the dataset\n",
        "\n",
        "x = (dataset -np.min(dataset))/(np.max(dataset)-np.min(dataset)).values"
      ],
      "execution_count": 0,
      "outputs": []
    },
    {
      "cell_type": "code",
      "metadata": {
        "id": "XL4J36D70uqm",
        "colab_type": "code",
        "colab": {}
      },
      "source": [
        "train=dataset[:split]\n",
        "test=dataset[split:]"
      ],
      "execution_count": 0,
      "outputs": []
    },
    {
      "cell_type": "code",
      "metadata": {
        "id": "eawlaVHjyTG2",
        "colab_type": "code",
        "colab": {}
      },
      "source": [
        "test.drop(['bank_account'],axis=1,inplace=True)"
      ],
      "execution_count": 0,
      "outputs": []
    },
    {
      "cell_type": "code",
      "metadata": {
        "id": "ZGk-CP_RyVoP",
        "colab_type": "code",
        "outputId": "4e090c76-5924-4c97-9a2b-597bde09774b",
        "colab": {
          "base_uri": "https://localhost:8080/",
          "height": 34
        }
      },
      "source": [
        "test.shape"
      ],
      "execution_count": 0,
      "outputs": [
        {
          "output_type": "execute_result",
          "data": {
            "text/plain": [
              "(10086, 40)"
            ]
          },
          "metadata": {
            "tags": []
          },
          "execution_count": 29
        }
      ]
    },
    {
      "cell_type": "code",
      "metadata": {
        "id": "flawNim6sv44",
        "colab_type": "code",
        "colab": {}
      },
      "source": [
        "X = train.drop('bank_account', axis=1).values  \n",
        "y = train['bank_account'].values\n",
        "\n",
        "#set seed for reproducability\n",
        "SEED = 8\n",
        "\n",
        "#Split dataset into 70% train, 30% test\n",
        "X_train, X_test, y_train, y_test = train_test_split(X, y, test_size=0.3, random_state=SEED)"
      ],
      "execution_count": 0,
      "outputs": []
    },
    {
      "cell_type": "code",
      "metadata": {
        "id": "nmOGeXSGtSXE",
        "colab_type": "code",
        "colab": {}
      },
      "source": [
        "knn = KNeighborsClassifier(n_neighbors = 17)\n",
        "knn.fit(X_train,y_train)\n",
        "knn.score(X_test,y_test)"
      ],
      "execution_count": 0,
      "outputs": []
    },
    {
      "cell_type": "code",
      "metadata": {
        "id": "0yW-ihrguo2_",
        "colab_type": "code",
        "colab": {}
      },
      "source": [
        "#Performing cross validation\n",
        "neighbors = []\n",
        "cv_scores = []\n",
        "from sklearn.model_selection import cross_val_score\n",
        "#perform 10 fold cross validation\n",
        "for k in range(1,51,2):\n",
        "    neighbors.append(k)\n",
        "    knn = KNeighborsClassifier(n_neighbors = k)\n",
        "    scores = cross_val_score(knn,X_train,y_train,cv=10, scoring = 'accuracy')\n",
        "    cv_scores.append(scores.mean())\n",
        "    "
      ],
      "execution_count": 0,
      "outputs": []
    },
    {
      "cell_type": "code",
      "metadata": {
        "id": "iMtQSAn3u5EV",
        "colab_type": "code",
        "outputId": "53a73ace-912d-4516-cc2b-42f2b7f84355",
        "colab": {
          "base_uri": "https://localhost:8080/",
          "height": 409
        }
      },
      "source": [
        "#Misclassification error versus k\n",
        "MSE = [1-x for x in cv_scores]\n",
        "\n",
        "#determining the best k\n",
        "optimal_k = neighbors[MSE.index(min(MSE))]\n",
        "print('The Optimal number of Neighbors is %d ' %optimal_k)\n",
        "\n",
        "#plot misclassification error versus k\n",
        "\n",
        "plt.figure(figsize = (10,6))\n",
        "plt.plot(neighbors, MSE)\n",
        "plt.xlabel('Number of Neighbors')\n",
        "plt.ylabel('Misclassification Error')\n",
        "plt.show()"
      ],
      "execution_count": 0,
      "outputs": [
        {
          "output_type": "stream",
          "text": [
            "The Optimal number of Neighbors is 11 \n"
          ],
          "name": "stdout"
        },
        {
          "output_type": "display_data",
          "data": {
            "image/png": "[encoded data removed]",
            "text/plain": [
              "<Figure size 720x432 with 1 Axes>"
            ]
          },
          "metadata": {
            "tags": []
          }
        }
      ]
    },
    {
      "cell_type": "code",
      "metadata": {
        "id": "R4TohH47u9AT",
        "colab_type": "code",
        "outputId": "342b28c4-ee03-4b47-b931-bc03f0f53eca",
        "colab": {
          "base_uri": "https://localhost:8080/",
          "height": 368
        }
      },
      "source": [
        "k_range=list(range(1,50))\n",
        "k_scores=[]\n",
        "for k in k_range:\n",
        "    knn=KNeighborsClassifier(n_neighbors=k)\n",
        "    scores=cross_val_score(knn, X_train,y_train,cv=10,scoring='recall')\n",
        "    k_scores.append(scores.mean())\n",
        "print(np.round(k_scores,3)) # to display scores to 3 decimal places\n",
        "from matplotlib import pyplot as plt\n",
        "plt.plot(k_range,k_scores,color=\"red\")\n",
        "plt.xlabel('k values')\n",
        "plt.ylabel('Recall')\n",
        "plt.show()"
      ],
      "execution_count": 0,
      "outputs": [
        {
          "output_type": "stream",
          "text": [
            "[0.325 0.153 0.279 0.164 0.241 0.145 0.211 0.141 0.19  0.126 0.173 0.117\n",
            " 0.141 0.111 0.14  0.108 0.128 0.103 0.117 0.101 0.117 0.092 0.111 0.085\n",
            " 0.101 0.086 0.095 0.082 0.09  0.076 0.089 0.07  0.082 0.069 0.074 0.067\n",
            " 0.072 0.061 0.066 0.054 0.065 0.055 0.061 0.054 0.059 0.051 0.058 0.051\n",
            " 0.055]\n"
          ],
          "name": "stdout"
        },
        {
          "output_type": "display_data",
          "data": {
            "image/png": "[encoded data removed]",
            "text/plain": [
              "<Figure size 432x288 with 1 Axes>"
            ]
          },
          "metadata": {
            "tags": []
          }
        }
      ]
    },
    {
      "cell_type": "code",
      "metadata": {
        "id": "Je3qeZEDvYyV",
        "colab_type": "code",
        "colab": {}
      },
      "source": [
        "clf = RandomForestClassifier(n_jobs=-1)\n",
        "\n",
        "param_grid = {\n",
        "    'min_samples_split': [3, 5, 10], \n",
        "    'n_estimators' : [100, 300],\n",
        "    'max_depth': [3, 5, 15, 25],\n",
        "    'max_features': [3, 5, 10, 20]\n",
        "}\n"
      ],
      "execution_count": 0,
      "outputs": []
    },
    {
      "cell_type": "code",
      "metadata": {
        "id": "7Ngws3NxvZga",
        "colab_type": "code",
        "colab": {}
      },
      "source": [
        "seed=8"
      ],
      "execution_count": 0,
      "outputs": []
    },
    {
      "cell_type": "code",
      "metadata": {
        "id": "P3GfhH0Wvipp",
        "colab_type": "code",
        "colab": {}
      },
      "source": [
        "from sklearn.linear_model import LogisticRegression\n",
        "from sklearn.discriminant_analysis import LinearDiscriminantAnalysis,QuadraticDiscriminantAnalysis\n",
        "from sklearn.svm import SVC\n",
        "from sklearn.ensemble import RandomForestClassifier\n",
        "from sklearn.ensemble import AdaBoostClassifier\n",
        "from sklearn.ensemble import GradientBoostingClassifier\n",
        "from xgboost import XGBClassifier\n",
        "import xgboost\n",
        "\n",
        "models = []\n",
        "models.append(('Logistic Regression',LogisticRegression(random_state=seed)))\n",
        "models.append(('Linear Discriminant Analysis',LinearDiscriminantAnalysis()))\n",
        "models.append(('Quadratic Discriminnat Analysis',QuadraticDiscriminantAnalysis()))\n",
        "models.append(('Support Vector Machine',SVC(random_state=seed,gamma='scale')))\n",
        "\n",
        "ensembles = []\n",
        "ensembles.append(('Random Forest Classifier', RandomForestClassifier(random_state=seed,n_estimators=100)))\n",
        "ensembles.append(('Ada Boost Classifier', AdaBoostClassifier(random_state=seed)))\n",
        "ensembles.append(('Gradient Boosting Classifier', GradientBoostingClassifier(random_state=seed)))\n",
        "ensembles.append(('XGB Classifier', XGBClassifier(random_state=seed)))"
      ],
      "execution_count": 0,
      "outputs": []
    },
    {
      "cell_type": "code",
      "metadata": {
        "id": "i2eg-TUuvu1T",
        "colab_type": "code",
        "colab": {}
      },
      "source": [
        "# Models evaluation function\n",
        "def get_score_models(model,X_train,X_test,y_train,y_test):\n",
        "    model.fit(X_train,y_train)\n",
        "    y_pred = model.predict(X_test)\n",
        "    \n",
        "    # All our models implement the 'decision_function' method\n",
        "    # It is not the case of all our ensembles\n",
        "    y_score = model.decision_function(X_test)\n",
        "    \n",
        "    compare(y_test,y_pred,y_score)\n",
        "    \n",
        "# Ensembles evaluation function\n",
        "def get_score_ensembles(ensemble,X_train,X_test,y_train,y_test):\n",
        "    ensemble.fit(X_train,y_train)\n",
        "    y_pred = ensemble.predict(X_test)\n",
        "    \n",
        "    # All our ensembles implement the 'predict_proba' method\n",
        "    # It is not the case of all our models\n",
        "    y_score = ensemble.predict_proba(X_test)[:,1]\n",
        "    \n",
        "    compare(y_test,y_pred,y_score)\n",
        "\n",
        "# Print metrics and graph function\n",
        "def compare(y_test,y_pred,y_score):\n",
        "    print('Confusion matrix:')\n",
        "    print(confusion_matrix(y_test,y_pred))\n",
        "    \n",
        "    print('Recall:',recall_score(y_test,y_pred))\n",
        "    print('Precision:',precision_score(y_test,y_pred))\n",
        "    print('Area under the curve:',average_precision_score(y_test,y_score))\n",
        "    \n",
        "    precision, recall, _ = precision_recall_curve(y_test, y_score)\n",
        "    plt.step(recall, precision, alpha=0.4, color='b', where='post')\n",
        "    plt.fill_between(recall, precision, alpha=0.2, color='b', step='post')\n",
        "    plt.xlabel('Recall')\n",
        "    plt.ylabel('Precision')\n",
        "    plt.ylim([0, 1.05])\n",
        "    plt.xlim([0, 1])\n",
        "    plt.title('Precision-Recall curve')\n",
        "    plt.show()"
      ],
      "execution_count": 0,
      "outputs": []
    },
    {
      "cell_type": "code",
      "metadata": {
        "id": "Zz2IO-UFv9t0",
        "colab_type": "code",
        "outputId": "a965f071-9a57-41cc-ff55-9f65f9a39c27",
        "colab": {
          "base_uri": "https://localhost:8080/",
          "height": 1000
        }
      },
      "source": [
        "# Evaluation of each model\n",
        "for name,model in models:\n",
        "    print('----------',name,'----------')\n",
        "    get_score_models(model,X_train,X_test,y_train,y_test)"
      ],
      "execution_count": 0,
      "outputs": [
        {
          "output_type": "stream",
          "text": [
            "---------- Logistic Regression ----------\n",
            "Confusion matrix:\n",
            "[[5933  129]\n",
            " [ 662  334]]\n",
            "Recall: 0.3353413654618474\n",
            "Precision: 0.7213822894168467\n",
            "Area under the curve: 0.5770146806247299\n"
          ],
          "name": "stdout"
        },
        {
          "output_type": "display_data",
          "data": {
            "image/png": "[encoded data removed]",
            "text/plain": [
              "<Figure size 432x288 with 1 Axes>"
            ]
          },
          "metadata": {
            "tags": []
          }
        },
        {
          "output_type": "stream",
          "text": [
            "---------- Linear Discriminant Analysis ----------\n",
            "Confusion matrix:\n",
            "[[5816  246]\n",
            " [ 598  398]]\n",
            "Recall: 0.39959839357429716\n",
            "Precision: 0.6180124223602484\n",
            "Area under the curve: 0.5715043056669911\n"
          ],
          "name": "stdout"
        },
        {
          "output_type": "display_data",
          "data": {
            "image/png": "[encoded data removed]",
            "text/plain": [
              "<Figure size 432x288 with 1 Axes>"
            ]
          },
          "metadata": {
            "tags": []
          }
        },
        {
          "output_type": "stream",
          "text": [
            "---------- Quadratic Discriminnat Analysis ----------\n",
            "Confusion matrix:\n",
            "[[5594  468]\n",
            " [ 860  136]]\n",
            "Recall: 0.13654618473895583\n",
            "Precision: 0.2251655629139073\n",
            "Area under the curve: 0.17961325853901247\n"
          ],
          "name": "stdout"
        },
        {
          "output_type": "display_data",
          "data": {
            "image/png": "[encoded data removed]",
            "text/plain": [
              "<Figure size 432x288 with 1 Axes>"
            ]
          },
          "metadata": {
            "tags": []
          }
        },
        {
          "output_type": "stream",
          "text": [
            "---------- Support Vector Machine ----------\n",
            "Confusion matrix:\n",
            "[[6062    0]\n",
            " [ 996    0]]\n",
            "Recall: 0.0\n",
            "Precision: 0.0\n",
            "Area under the curve: 0.40292521591406855\n"
          ],
          "name": "stdout"
        },
        {
          "output_type": "display_data",
          "data": {
            "image/png": "[encoded data removed]",
            "text/plain": [
              "<Figure size 432x288 with 1 Axes>"
            ]
          },
          "metadata": {
            "tags": []
          }
        }
      ]
    },
    {
      "cell_type": "code",
      "metadata": {
        "id": "jAQkja_hwI2m",
        "colab_type": "code",
        "outputId": "76cb6716-1009-4fe8-ba05-80c81ed51eb5",
        "colab": {
          "base_uri": "https://localhost:8080/",
          "height": 1000
        }
      },
      "source": [
        "# Evaluation of each ensemble method\n",
        "for name,ensemble in ensembles:\n",
        "    print('----------',name,'----------')\n",
        "    get_score_ensembles(ensemble,X_train,X_test,y_train,y_test)"
      ],
      "execution_count": 0,
      "outputs": [
        {
          "output_type": "stream",
          "text": [
            "---------- Random Forest Classifier ----------\n",
            "Confusion matrix:\n",
            "[[5715  347]\n",
            " [ 604  392]]\n",
            "Recall: 0.39357429718875503\n",
            "Precision: 0.530446549391069\n",
            "Area under the curve: 0.48992177593911984\n"
          ],
          "name": "stdout"
        },
        {
          "output_type": "display_data",
          "data": {
            "image/png": "[encoded data removed]",
            "text/plain": [
              "<Figure size 432x288 with 1 Axes>"
            ]
          },
          "metadata": {
            "tags": []
          }
        },
        {
          "output_type": "stream",
          "text": [
            "---------- Ada Boost Classifier ----------\n",
            "Confusion matrix:\n",
            "[[5919  143]\n",
            " [ 653  343]]\n",
            "Recall: 0.34437751004016065\n",
            "Precision: 0.7057613168724279\n",
            "Area under the curve: 0.5757900749779649\n"
          ],
          "name": "stdout"
        },
        {
          "output_type": "display_data",
          "data": {
            "image/png": "[encoded data removed]",
            "text/plain": [
              "<Figure size 432x288 with 1 Axes>"
            ]
          },
          "metadata": {
            "tags": []
          }
        },
        {
          "output_type": "stream",
          "text": [
            "---------- Gradient Boosting Classifier ----------\n",
            "Confusion matrix:\n",
            "[[5939  123]\n",
            " [ 654  342]]\n",
            "Recall: 0.3433734939759036\n",
            "Precision: 0.7354838709677419\n",
            "Area under the curve: 0.6030615940475275\n"
          ],
          "name": "stdout"
        },
        {
          "output_type": "display_data",
          "data": {
            "image/png": "[encoded data removed]",
            "text/plain": [
              "<Figure size 432x288 with 1 Axes>"
            ]
          },
          "metadata": {
            "tags": []
          }
        },
        {
          "output_type": "stream",
          "text": [
            "---------- XGB Classifier ----------\n",
            "Confusion matrix:\n",
            "[[5944  118]\n",
            " [ 658  338]]\n",
            "Recall: 0.3393574297188755\n",
            "Precision: 0.7412280701754386\n",
            "Area under the curve: 0.6051716827329944\n"
          ],
          "name": "stdout"
        },
        {
          "output_type": "display_data",
          "data": {
            "image/png": "[encoded data removed]",
            "text/plain": [
              "<Figure size 432x288 with 1 Axes>"
            ]
          },
          "metadata": {
            "tags": []
          }
        }
      ]
    },
    {
      "cell_type": "code",
      "metadata": {
        "id": "8Xl1DIypxQcB",
        "colab_type": "code",
        "colab": {}
      },
      "source": [
        ""
      ],
      "execution_count": 0,
      "outputs": []
    },
    {
      "cell_type": "code",
      "metadata": {
        "id": "9YPhwWB1xRCw",
        "colab_type": "code",
        "outputId": "56547f36-a0bc-4d92-a9b5-ed688273193c",
        "colab": {
          "base_uri": "https://localhost:8080/",
          "height": 738
        }
      },
      "source": [
        "# Normalization of the data\n",
        "\n",
        "x_train_N = (X_train-X_train.mean())/(X_train.max()-X_train.min())\n",
        "x_test_N = (X_test-X_test.mean())/(X_test.max()-X_test.min())\n",
        "\n",
        "from sklearn.decomposition import PCA\n",
        "pca = PCA()\n",
        "pca.fit(x_train_N)\n",
        "\n",
        "plt.figure(1, figsize=(14, 13))\n",
        "plt.clf()\n",
        "plt.axes([.2, .2, .7, .7])\n",
        "plt.plot(pca.explained_variance_ratio_, linewidth=2)\n",
        "plt.axis('tight')\n",
        "plt.xlabel('n_components')\n",
        "plt.ylabel('explained_variance_ratio_')\n"
      ],
      "execution_count": 0,
      "outputs": [
        {
          "output_type": "execute_result",
          "data": {
            "text/plain": [
              "Text(0, 0.5, 'explained_variance_ratio_')"
            ]
          },
          "metadata": {
            "tags": []
          },
          "execution_count": 53
        },
        {
          "output_type": "display_data",
          "data": {
            "image/png": "[encoded data removed]",
            "text/plain": [
              "<Figure size 1008x936 with 1 Axes>"
            ]
          },
          "metadata": {
            "tags": []
          }
        }
      ]
    },
    {
      "cell_type": "markdown",
      "metadata": {
        "id": "zYs2IesU162s",
        "colab_type": "text"
      },
      "source": [
        "#### Hyper Parameter Tuning"
      ]
    },
    {
      "cell_type": "code",
      "metadata": {
        "id": "iTA7b-5uy8j8",
        "colab_type": "code",
        "outputId": "fb2dd0ed-81d8-40ae-adb1-09e110426a9c",
        "colab": {
          "base_uri": "https://localhost:8080/",
          "height": 34
        }
      },
      "source": [
        "#Logistic Regression\n",
        "\n",
        "# Import library for LogisticRegression\n",
        "from sklearn.linear_model import LogisticRegression\n",
        "\n",
        "# Create a Logistic regression classifier\n",
        "logreg = LogisticRegression()\n",
        "\n",
        "# Train the model using the training sets \n",
        "logreg.fit(X_train, y_train)\n",
        "\n",
        "# Prediction on test data\n",
        "y_pred = logreg.predict(X_test)\n",
        "\n",
        "# Calculating the accuracy\n",
        "acc_logreg = round( metrics.accuracy_score(y_test, y_pred) * 100, 2 )\n",
        "print( 'Accuracy of Logistic Regression model : ', acc_logreg )"
      ],
      "execution_count": 0,
      "outputs": [
        {
          "output_type": "stream",
          "text": [
            "Accuracy of Logistic Regression model :  88.79\n"
          ],
          "name": "stdout"
        }
      ]
    },
    {
      "cell_type": "code",
      "metadata": {
        "id": "nj_7SPY1y9nT",
        "colab_type": "code",
        "outputId": "3e5a22f6-5e77-4ed5-bff0-51f738b5e23d",
        "colab": {
          "base_uri": "https://localhost:8080/",
          "height": 34
        }
      },
      "source": [
        "# Gaussian Naive Bayes\n",
        "\n",
        "# Import library of Gaussian Naive Bayes model\n",
        "from sklearn.naive_bayes import GaussianNB\n",
        "\n",
        "# Create a Gaussian Classifier\n",
        "model = GaussianNB()\n",
        "\n",
        "# Train the model using the training sets \n",
        "model.fit(X_train,y_train)\n",
        "\n",
        "# Prediction on test set\n",
        "y_pred = model.predict(X_test)\n",
        "\n",
        "# Calculating the accuracy\n",
        "acc_nb = round( metrics.accuracy_score(y_test, y_pred) * 100, 2 )\n",
        "print( 'Accuracy of Gaussian Naive Bayes model : ', acc_nb )"
      ],
      "execution_count": 0,
      "outputs": [
        {
          "output_type": "stream",
          "text": [
            "Accuracy of Gaussian Naive Bayes model :  85.17\n"
          ],
          "name": "stdout"
        }
      ]
    },
    {
      "cell_type": "code",
      "metadata": {
        "id": "1vSsqoyFzIjn",
        "colab_type": "code",
        "outputId": "385908c7-09eb-4b20-924e-e0c907c376cd",
        "colab": {
          "base_uri": "https://localhost:8080/",
          "height": 119
        }
      },
      "source": [
        "# Decision Tree Classifier\n",
        "\n",
        "# Import Decision tree classifier\n",
        "from sklearn.tree import DecisionTreeClassifier\n",
        "\n",
        "# Create a Decision tree classifier model\n",
        "clf = DecisionTreeClassifier(random_state=42)\n",
        "\n",
        "\n",
        "# Hyperparameter Optimization\n",
        "parameters = {'max_features': ['log2', 'sqrt','auto'], \n",
        "              'criterion': ['entropy', 'gini'],\n",
        "              'max_depth': [2, 3, 5, 10, 50], \n",
        "              'min_samples_split': [2, 3, 50, 100],\n",
        "              'min_samples_leaf': [1, 5, 8, 10]\n",
        "             }\n",
        "\n",
        "# Run the grid search\n",
        "grid_obj = GridSearchCV(clf, parameters)\n",
        "grid_obj = grid_obj.fit(X_train, y_train)\n",
        "\n",
        "# Set the clf to the best combination of parameters\n",
        "clf = grid_obj.best_estimator_\n",
        "\n",
        "# Train the model using the training sets \n",
        "clf.fit(X_train, y_train)"
      ],
      "execution_count": 0,
      "outputs": [
        {
          "output_type": "execute_result",
          "data": {
            "text/plain": [
              "DecisionTreeClassifier(class_weight=None, criterion='entropy', max_depth=50,\n",
              "                       max_features='log2', max_leaf_nodes=None,\n",
              "                       min_impurity_decrease=0.0, min_impurity_split=None,\n",
              "                       min_samples_leaf=1, min_samples_split=100,\n",
              "                       min_weight_fraction_leaf=0.0, presort=False,\n",
              "                       random_state=42, splitter='best')"
            ]
          },
          "metadata": {
            "tags": []
          },
          "execution_count": 60
        }
      ]
    },
    {
      "cell_type": "code",
      "metadata": {
        "id": "hiWPixggzV62",
        "colab_type": "code",
        "outputId": "a8668545-5529-4832-c868-05907eb90664",
        "colab": {
          "base_uri": "https://localhost:8080/",
          "height": 34
        }
      },
      "source": [
        "# Prediction on test set\n",
        "y_pred = clf.predict(X_test)\n",
        "\n",
        "# Calculating the accuracy\n",
        "acc_dt = round( metrics.accuracy_score(y_test, y_pred) * 100, 2 )\n",
        "print( 'Accuracy of Decision Tree model : ', acc_dt )"
      ],
      "execution_count": 0,
      "outputs": [
        {
          "output_type": "stream",
          "text": [
            "Accuracy of Decision Tree model :  88.25\n"
          ],
          "name": "stdout"
        }
      ]
    },
    {
      "cell_type": "code",
      "metadata": {
        "id": "2MI2W-aaza3D",
        "colab_type": "code",
        "outputId": "1e2888df-c15c-47be-8a0e-44c4fca04e95",
        "colab": {
          "base_uri": "https://localhost:8080/",
          "height": 136
        }
      },
      "source": [
        "# Random Forest Classifier\n",
        "\n",
        "# Import library of RandomForestClassifier model\n",
        "from sklearn.ensemble import RandomForestClassifier\n",
        "\n",
        "# Create a Random Forest Classifier\n",
        "rf = RandomForestClassifier()\n",
        "\n",
        "# Hyperparameter Optimization\n",
        "parameters = {'n_estimators': [4, 6, 9, 10, 15], \n",
        "              'max_features': ['log2', 'sqrt','auto'], \n",
        "              'criterion': ['entropy', 'gini'],\n",
        "              'max_depth': [2, 3, 5, 10], \n",
        "              'min_samples_split': [2, 3, 5],\n",
        "              'min_samples_leaf': [1, 5, 8]\n",
        "             }\n",
        "\n",
        "# Run the grid search\n",
        "grid_obj = GridSearchCV(rf, parameters)\n",
        "grid_obj = grid_obj.fit(X_train, y_train)\n",
        "\n",
        "# Set the rf to the best combination of parameters\n",
        "rf = grid_obj.best_estimator_\n",
        "\n",
        "# Train the model using the training sets \n",
        "rf.fit(X_train,y_train)"
      ],
      "execution_count": 0,
      "outputs": [
        {
          "output_type": "execute_result",
          "data": {
            "text/plain": [
              "RandomForestClassifier(bootstrap=True, class_weight=None, criterion='gini',\n",
              "                       max_depth=10, max_features='sqrt', max_leaf_nodes=None,\n",
              "                       min_impurity_decrease=0.0, min_impurity_split=None,\n",
              "                       min_samples_leaf=8, min_samples_split=2,\n",
              "                       min_weight_fraction_leaf=0.0, n_estimators=9,\n",
              "                       n_jobs=None, oob_score=False, random_state=None,\n",
              "                       verbose=0, warm_start=False)"
            ]
          },
          "metadata": {
            "tags": []
          },
          "execution_count": 63
        }
      ]
    },
    {
      "cell_type": "code",
      "metadata": {
        "id": "rXD8vMi1zef8",
        "colab_type": "code",
        "outputId": "65769feb-1fdd-4de3-ac34-6ad69eaa7ffe",
        "colab": {
          "base_uri": "https://localhost:8080/",
          "height": 34
        }
      },
      "source": [
        "# Prediction on test data\n",
        "y_pred = rf.predict(X_test)\n",
        "\n",
        "# Calculating the accuracy\n",
        "acc_rf = round( metrics.accuracy_score(y_test, y_pred) * 100 , 2 )\n",
        "print( 'Accuracy of Random Forest model : ', acc_rf )\n"
      ],
      "execution_count": 0,
      "outputs": [
        {
          "output_type": "stream",
          "text": [
            "Accuracy of Random Forest model :  88.52\n"
          ],
          "name": "stdout"
        }
      ]
    },
    {
      "cell_type": "code",
      "metadata": {
        "id": "z6KKf1r2zxOt",
        "colab_type": "code",
        "colab": {}
      },
      "source": [
        "# SVM Classifier\n",
        "\n",
        "# Creating scaled set to be used in model to improve the results\n",
        "from sklearn.preprocessing import StandardScaler\n",
        "sc = StandardScaler()\n",
        "X_train = sc.fit_transform(X_train)\n",
        "X_test = sc.transform(X_test)"
      ],
      "execution_count": 0,
      "outputs": []
    },
    {
      "cell_type": "code",
      "metadata": {
        "id": "Ucku6scWz-3M",
        "colab_type": "code",
        "colab": {}
      },
      "source": [
        "# Import Library of Support Vector Machine model\n",
        "from sklearn import svm\n",
        "\n",
        "# Create a Support Vector Classifier\n",
        "svc = svm.SVC()\n",
        "\n",
        "# Hyperparameter Optimization\n",
        "parameters = [\n",
        "  {'C': [1, 10, 100, 1000], 'kernel': ['linear']},\n",
        "  {'C': [1, 10, 100, 1000], 'gamma': [0.001, 0.0001], 'kernel': ['rbf']},\n",
        "]\n",
        "\n",
        "# Run the grid search\n",
        "grid_obj = GridSearchCV(svc, parameters)\n",
        "grid_obj = grid_obj.fit(X_train, y_train)\n",
        "\n",
        "# Set the svc to the best combination of parameters\n",
        "svc = grid_obj.best_estimator_\n",
        "\n",
        "# Train the model using the training sets \n",
        "svc.fit(X_train,y_train)"
      ],
      "execution_count": 0,
      "outputs": []
    },
    {
      "cell_type": "code",
      "metadata": {
        "id": "H2ysWV-X0GQ8",
        "colab_type": "code",
        "colab": {}
      },
      "source": [
        "# Prediction on test data\n",
        "y_pred = svc.predict(X_test)\n",
        "\n",
        "# Calculating the accuracy\n",
        "acc_svm = round( metrics.accuracy_score(y_test, y_pred) * 100, 2 )\n",
        "print( 'Accuracy of SVM model : ', acc_svm )"
      ],
      "execution_count": 0,
      "outputs": []
    },
    {
      "cell_type": "code",
      "metadata": {
        "id": "07Txm6Bv0a7a",
        "colab_type": "code",
        "colab": {}
      },
      "source": [
        "# K - Nearest Neighbors\n",
        "\n",
        "# Import library of KNeighborsClassifier model\n",
        "from sklearn.neighbors import KNeighborsClassifier\n",
        "\n",
        "# Create a KNN Classifier\n",
        "knn = KNeighborsClassifier()\n",
        "\n",
        "# Hyperparameter Optimization\n",
        "parameters = {'n_neighbors': [3, 4, 5, 10], \n",
        "              'weights': ['uniform', 'distance'],\n",
        "              'algorithm' : ['auto', 'ball_tree', 'kd_tree', 'brute'],\n",
        "              'leaf_size' : [10, 20, 30, 50]\n",
        "             }\n",
        "\n",
        "# Run the grid search\n",
        "grid_obj = GridSearchCV(knn, parameters)\n",
        "grid_obj = grid_obj.fit(X_train, y_train)\n",
        "\n",
        "# Set the knn to the best combination of parameters\n",
        "knn = grid_obj.best_estimator_\n",
        "\n",
        "# Train the model using the training sets \n",
        "knn.fit(X_train,y_train)"
      ],
      "execution_count": 0,
      "outputs": []
    },
    {
      "cell_type": "code",
      "metadata": {
        "id": "ezdeaZLD0kY_",
        "colab_type": "code",
        "colab": {}
      },
      "source": [
        "# Prediction on test data\n",
        "y_pred = knn.predict(X_test)\n",
        "\n",
        "\n",
        "# Calculating the accuracy\n",
        "acc_knn = round( metrics.accuracy_score(y_test, y_pred) * 100, 2 )\n",
        "print( 'Accuracy of KNN model : ', acc_knn )"
      ],
      "execution_count": 0,
      "outputs": []
    },
    {
      "cell_type": "code",
      "metadata": {
        "id": "ZrxL0Uhd0kS1",
        "colab_type": "code",
        "colab": {}
      },
      "source": [
        "models = pd.DataFrame({\n",
        "    'Model': ['Logistic Regression', ' Gaussian Naive Bayes', 'Decision Tree', 'Random Forest', 'Support Vector Machines', \n",
        "              'K - Nearest Neighbors'],\n",
        "    'Score': [acc_logreg, acc_nb, acc_dt, acc_rf, acc_svm, acc_knn]})\n",
        "models.sort_values(by='Score', ascending=False)"
      ],
      "execution_count": 0,
      "outputs": []
    },
    {
      "cell_type": "code",
      "metadata": {
        "id": "rU68ppGT9JND",
        "colab_type": "code",
        "outputId": "6853309a-eba0-44e3-c155-cc5eed584218",
        "colab": {
          "base_uri": "https://localhost:8080/",
          "height": 35
        }
      },
      "source": [
        "#Instantiate DecisionTree\n",
        "dt = DecisionTreeClassifier(max_depth=2, random_state=1)\n",
        "\n",
        "#random_state=1 for reproducability\n",
        "\n",
        "#Fit dt to the training set\n",
        "dt.fit(X_train, y_train)\n",
        "\n",
        "#Predict test set labels\n",
        "y_pred =dt.predict(X_test)\n",
        "\n",
        "#metrics\n",
        "import sklearn\n",
        "sklearn.metrics.accuracy_score(y_test, y_pred, normalize=True, sample_weight=None)"
      ],
      "execution_count": 0,
      "outputs": [
        {
          "output_type": "execute_result",
          "data": {
            "text/plain": [
              "0.8787191839047889"
            ]
          },
          "metadata": {
            "tags": []
          },
          "execution_count": 243
        }
      ]
    },
    {
      "cell_type": "code",
      "metadata": {
        "id": "XYOMo3c73TQ-",
        "colab_type": "code",
        "outputId": "752375a1-0de1-4c2b-ed92-715a0c91035a",
        "colab": {
          "base_uri": "https://localhost:8080/",
          "height": 35
        }
      },
      "source": [
        "predictions = dt.predict(test)\n",
        "predictions"
      ],
      "execution_count": 0,
      "outputs": [
        {
          "output_type": "execute_result",
          "data": {
            "text/plain": [
              "array([1., 1., 0., ..., 0., 0., 0.])"
            ]
          },
          "metadata": {
            "tags": []
          },
          "execution_count": 176
        }
      ]
    },
    {
      "cell_type": "code",
      "metadata": {
        "id": "Qi_XXHYd3hiw",
        "colab_type": "code",
        "colab": {}
      },
      "source": [
        "test1=pd.read_csv('Test_v2.csv')\n",
        "test1['unique_id'] = test1[['uniqueid','country']].apply(lambda x: ' x '.join(x), axis=1)"
      ],
      "execution_count": 0,
      "outputs": []
    },
    {
      "cell_type": "code",
      "metadata": {
        "id": "LIZREbJT3iBO",
        "colab_type": "code",
        "colab": {}
      },
      "source": [
        "submission = pd.DataFrame()\n",
        "submission['unique_id'] = test1['unique_id']\n",
        "submission['bank_account'] = predictions.reshape((predictions.shape[0]))\n",
        "submission.to_csv('submission_df.csv',index=False)"
      ],
      "execution_count": 0,
      "outputs": []
    },
    {
      "cell_type": "code",
      "metadata": {
        "id": "piW_u0FH3p3G",
        "colab_type": "code",
        "colab": {}
      },
      "source": [
        "dataA=pd.read_csv(\"submission_df.csv\")"
      ],
      "execution_count": 0,
      "outputs": []
    },
    {
      "cell_type": "code",
      "metadata": {
        "id": "31v9uu003tFE",
        "colab_type": "code",
        "colab": {}
      },
      "source": [
        "dataA['bank2']=test['age_of_respondent']"
      ],
      "execution_count": 0,
      "outputs": []
    },
    {
      "cell_type": "code",
      "metadata": {
        "id": "sZEuldsi3zGT",
        "colab_type": "code",
        "outputId": "83323641-0140-4a3b-de32-f8eebbb3aa4c",
        "colab": {
          "base_uri": "https://localhost:8080/",
          "height": 198
        }
      },
      "source": [
        "dataA.head()"
      ],
      "execution_count": 0,
      "outputs": [
        {
          "output_type": "execute_result",
          "data": {
            "text/html": [
              "<div>\n",
              "<style scoped>\n",
              "    .dataframe tbody tr th:only-of-type {\n",
              "        vertical-align: middle;\n",
              "    }\n",
              "\n",
              "    .dataframe tbody tr th {\n",
              "        vertical-align: top;\n",
              "    }\n",
              "\n",
              "    .dataframe thead th {\n",
              "        text-align: right;\n",
              "    }\n",
              "</style>\n",
              "<table border=\"1\" class=\"dataframe\">\n",
              "  <thead>\n",
              "    <tr style=\"text-align: right;\">\n",
              "      <th></th>\n",
              "      <th>unique_id</th>\n",
              "      <th>bank_account</th>\n",
              "      <th>bank2</th>\n",
              "    </tr>\n",
              "  </thead>\n",
              "  <tbody>\n",
              "    <tr>\n",
              "      <th>0</th>\n",
              "      <td>uniqueid_6056 x Kenya</td>\n",
              "      <td>1.0</td>\n",
              "      <td>30</td>\n",
              "    </tr>\n",
              "    <tr>\n",
              "      <th>1</th>\n",
              "      <td>uniqueid_6060 x Kenya</td>\n",
              "      <td>1.0</td>\n",
              "      <td>51</td>\n",
              "    </tr>\n",
              "    <tr>\n",
              "      <th>2</th>\n",
              "      <td>uniqueid_6065 x Kenya</td>\n",
              "      <td>0.0</td>\n",
              "      <td>77</td>\n",
              "    </tr>\n",
              "    <tr>\n",
              "      <th>3</th>\n",
              "      <td>uniqueid_6072 x Kenya</td>\n",
              "      <td>0.0</td>\n",
              "      <td>39</td>\n",
              "    </tr>\n",
              "    <tr>\n",
              "      <th>4</th>\n",
              "      <td>uniqueid_6073 x Kenya</td>\n",
              "      <td>0.0</td>\n",
              "      <td>16</td>\n",
              "    </tr>\n",
              "  </tbody>\n",
              "</table>\n",
              "</div>"
            ],
            "text/plain": [
              "               unique_id  bank_account  bank2\n",
              "0  uniqueid_6056 x Kenya           1.0     30\n",
              "1  uniqueid_6060 x Kenya           1.0     51\n",
              "2  uniqueid_6065 x Kenya           0.0     77\n",
              "3  uniqueid_6072 x Kenya           0.0     39\n",
              "4  uniqueid_6073 x Kenya           0.0     16"
            ]
          },
          "metadata": {
            "tags": []
          },
          "execution_count": 189
        }
      ]
    },
    {
      "cell_type": "code",
      "metadata": {
        "id": "SUp3iVwc-Imu",
        "colab_type": "code",
        "colab": {}
      },
      "source": [
        "import pandas as pd"
      ],
      "execution_count": 0,
      "outputs": []
    },
    {
      "cell_type": "code",
      "metadata": {
        "id": "38lzWGr__F5O",
        "colab_type": "code",
        "colab": {}
      },
      "source": [
        "from google.colab import files\n",
        "dataA.to_csv('dataA.csv') \n",
        "files.download('dataA.csv')"
      ],
      "execution_count": 0,
      "outputs": []
    },
    {
      "cell_type": "code",
      "metadata": {
        "id": "lGB_d1UK9atk",
        "colab_type": "code",
        "colab": {}
      },
      "source": [
        "predictions= dt.predict(test)\n",
        "\n",
        "submission_df = pd.DataFrame({\"uniqueid\": test[\"uniqueid\"] + \" x \" + test[\"country\"], \"bank_account\": predictions})\n",
        "\n",
        "submission_df.to_csv(\"Submission_file.csv\",index=False)\n"
      ],
      "execution_count": 0,
      "outputs": []
    },
    {
      "cell_type": "code",
      "metadata": {
        "id": "J-32zrS4CIsS",
        "colab_type": "code",
        "colab": {}
      },
      "source": [
        "submission = pd.DataFrame(index=test.index,columns=['uniqueid','bank_account'])\n",
        "\n",
        "submission['uniqueid'] = test['uniqueid']\n",
        "\n",
        "submission['bank_account'] = dt.predict(X_test)\n",
        "\n",
        "submission.to_csv('yourpath.csv',index=False)"
      ],
      "execution_count": 0,
      "outputs": []
    },
    {
      "cell_type": "markdown",
      "metadata": {
        "id": "kufwjaAwDkzY",
        "colab_type": "text"
      },
      "source": [
        "### Other Models"
      ]
    },
    {
      "cell_type": "code",
      "metadata": {
        "id": "CDEikxi-Dmz5",
        "colab_type": "code",
        "outputId": "cb8a24b8-8c47-4f0c-e057-50e34f78b09e",
        "colab": {
          "base_uri": "https://localhost:8080/",
          "height": 35
        }
      },
      "source": [
        "# Fitting XGBoost to the Training set\n",
        "from xgboost import XGBClassifier\n",
        "classifier = XGBClassifier(n_estimators=200)\n",
        "classifier.fit(X_train, y_train)\n",
        "\n",
        "# Predicting the Test set results\n",
        "y_pred = classifier.predict(X_test)\n",
        "#metrics\n",
        "\n",
        "import sklearn\n",
        "sklearn.metrics.accuracy_score(y_test, y_pred, normalize=True, sample_weight=None)"
      ],
      "execution_count": 0,
      "outputs": [
        {
          "output_type": "execute_result",
          "data": {
            "text/plain": [
              "0.8904788892037404"
            ]
          },
          "metadata": {
            "tags": []
          },
          "execution_count": 245
        }
      ]
    },
    {
      "cell_type": "code",
      "metadata": {
        "id": "Ykthm-a_Dnv_",
        "colab_type": "code",
        "colab": {}
      },
      "source": [
        "from sklearn.model_selection import train_test_split\n",
        "from sklearn.preprocessing import StandardScaler\n",
        "from sklearn.neighbors import KNeighborsClassifier\n",
        "from sklearn.ensemble import RandomForestClassifier\n",
        "from sklearn.decomposition import PCA\n",
        "from sklearn.metrics import confusion_matrix\n",
        "from sklearn.model_selection import cross_val_score\n",
        "from sklearn.svm import SVC\n",
        "from sklearn.ensemble import AdaBoostClassifier\n",
        "from sklearn.linear_model import LogisticRegression\n",
        "from sklearn.tree import DecisionTreeClassifier\n",
        "from sklearn.model_selection import GridSearchCV\n",
        "from sklearn.metrics import precision_score, recall_score\n",
        "from sklearn.metrics import confusion_matrix\n",
        "from sklearn.metrics import accuracy_score\n",
        "import warnings\n",
        "warnings.filterwarnings('ignore')"
      ],
      "execution_count": 0,
      "outputs": []
    },
    {
      "cell_type": "code",
      "metadata": {
        "id": "p4qYJgwQFEHP",
        "colab_type": "code",
        "outputId": "43b915b2-a8f7-45e6-c0a1-bfb57e847388",
        "colab": {
          "base_uri": "https://localhost:8080/",
          "height": 309
        }
      },
      "source": [
        "scaler=StandardScaler()\n",
        "X_train_std=scaler.fit_transform(X_train)\n",
        "X_test_std=scaler.transform(X_test)\n",
        "pca=PCA().fit(X_train_std)\n",
        "plt.plot(np.cumsum(pca.explained_variance_ratio_))\n",
        "plt.xlabel('number of components')\n",
        "plt.ylabel('cumulative explained variance')\n",
        "plt.xlim(0,22,2)"
      ],
      "execution_count": 0,
      "outputs": [
        {
          "output_type": "execute_result",
          "data": {
            "text/plain": [
              "(0, 22)"
            ]
          },
          "metadata": {
            "tags": []
          },
          "execution_count": 247
        },
        {
          "output_type": "display_data",
          "data": {
            "image/png": "[encoded data removed]",
            "text/plain": [
              "<Figure size 432x288 with 1 Axes>"
            ]
          },
          "metadata": {
            "tags": []
          }
        }
      ]
    },
    {
      "cell_type": "code",
      "metadata": {
        "id": "UEudC1gyFQoT",
        "colab_type": "code",
        "outputId": "6b2370f7-a3c1-48fb-e6f5-82724894e5e8",
        "colab": {
          "base_uri": "https://localhost:8080/",
          "height": 54
        }
      },
      "source": [
        "pca=PCA(n_components=10)\n",
        "pca.fit(X_train_std)\n",
        "X_train_pca=pca.transform(X_train_std)\n",
        "X_test_pca=pca.transform(X_test_std)\n",
        "print(X_train_pca.shape)\n",
        "print(X_test_pca.shape)"
      ],
      "execution_count": 0,
      "outputs": [
        {
          "output_type": "stream",
          "text": [
            "(16466, 10)\n",
            "(7058, 10)\n"
          ],
          "name": "stdout"
        }
      ]
    },
    {
      "cell_type": "code",
      "metadata": {
        "id": "1v_2-z5vFYy8",
        "colab_type": "code",
        "outputId": "0e82edca-b6d2-4c4a-eb4d-a539367d601a",
        "colab": {
          "base_uri": "https://localhost:8080/",
          "height": 72
        }
      },
      "source": [
        "logreg=LogisticRegression(random_state=1)\n",
        "score = np.mean(cross_val_score(logreg,  X_train_pca, y_train, scoring='accuracy'))\n",
        "p_scores = np.mean(cross_val_score(logreg,  X_train_pca, y_train, scoring='precision'))\n",
        "r_scores = np.mean(cross_val_score(logreg,  X_train_pca, y_train, scoring='recall'))\n",
        "print(\"Accuracy: %s\" % '{:.2%}'.format(score))\n",
        "print ('Precision : %s' %'{:.2%}' .format(p_scores))\n",
        "print ('Recall score: %s' % '{:.2%}'.format(r_scores))\n"
      ],
      "execution_count": 0,
      "outputs": [
        {
          "output_type": "stream",
          "text": [
            "Accuracy: 88.18%\n",
            "Precision : 70.21%\n",
            "Recall score: 27.72%\n"
          ],
          "name": "stdout"
        }
      ]
    },
    {
      "cell_type": "code",
      "metadata": {
        "id": "9YrqfQedFcoo",
        "colab_type": "code",
        "outputId": "a3966d9f-8aad-4443-8108-f8ab41833747",
        "colab": {
          "base_uri": "https://localhost:8080/",
          "height": 126
        }
      },
      "source": [
        "knn=KNeighborsClassifier()\n",
        "scores = np.mean(cross_val_score(knn,  X_train_pca, y_train, scoring='accuracy'))\n",
        "p_scores = np.mean(cross_val_score(knn,  X_train_pca, y_train, scoring='precision'))\n",
        "r_scores = np.mean(cross_val_score(knn,  X_train_pca, y_train, scoring='recall'))\n",
        "print(\"Accuracy: %s\" % '{:.2%}'.format(score))\n",
        "print ('Precision : %s' %'{:.2%}' .format(p_scores))\n",
        "print ('Recall score: %s' % '{:.2%}'.format(r_scores))\n",
        "\n",
        "X1_train,X1_test,y1_train,y1_test= train_test_split(X_train_pca, y_train,test_size=0.3,random_state=21)\n",
        "knn.fit(X1_train,y1_train)\n",
        "y_pred=knn.predict(X1_test)\n",
        "con=confusion_matrix(y1_test,y_pred)\n",
        "print('Confusion matrix:')\n",
        "print(con)"
      ],
      "execution_count": 0,
      "outputs": [
        {
          "output_type": "stream",
          "text": [
            "Accuracy: 88.18%\n",
            "Precision : 57.95%\n",
            "Recall score: 35.06%\n",
            "Confusion matrix:\n",
            "[[4091  168]\n",
            " [ 442  239]]\n"
          ],
          "name": "stdout"
        }
      ]
    },
    {
      "cell_type": "code",
      "metadata": {
        "id": "9Wciyic1Fk6F",
        "colab_type": "code",
        "outputId": "ac9729b4-3da3-4548-9181-56ebbcab33e3",
        "colab": {
          "base_uri": "https://localhost:8080/",
          "height": 35
        }
      },
      "source": [
        "knn=KNeighborsClassifier()\n",
        "param_grid = {\"n_neighbors\": np.arange(1,50)}\n",
        "knn_cv = GridSearchCV(estimator = knn, param_grid = param_grid, \n",
        "                          cv = 3, n_jobs = -1, verbose = 0)\n",
        "knn_cv.fit( X_train_pca, y_train)\n",
        "print(knn_cv.best_params_)"
      ],
      "execution_count": 0,
      "outputs": [
        {
          "output_type": "stream",
          "text": [
            "{'n_neighbors': 13}\n"
          ],
          "name": "stdout"
        }
      ]
    },
    {
      "cell_type": "code",
      "metadata": {
        "id": "kPBqEj53FpMT",
        "colab_type": "code",
        "outputId": "7d9fbc5a-2008-485d-8f68-30874651125b",
        "colab": {
          "base_uri": "https://localhost:8080/",
          "height": 126
        }
      },
      "source": [
        "knn_cv=KNeighborsClassifier(n_neighbors= 13)\n",
        "score_knn_cv = np.mean(cross_val_score(knn_cv,  X_test_pca, y_test, scoring='accuracy'))\n",
        "p_score_knn_cv = np.mean(cross_val_score(knn_cv,  X_test_pca, y_test, scoring='precision'))\n",
        "r_score_knn_cv = np.mean(cross_val_score(knn_cv,  X_test_pca, y_test, scoring='recall'))\n",
        "print(\"Accuracy for knn_cv: %s\" % '{:.2%}'.format(score_knn_cv))\n",
        "print ('Precision for knn_cv: %s' %'{:.2%}' .format(p_score_knn_cv))\n",
        "print ('Recall score for knn_cv: %s' % '{:.2%}'.format(r_score_knn_cv))\n",
        "\n",
        "score_knn = np.mean(cross_val_score(knn,  X_test_pca, y_test, scoring='accuracy'))\n",
        "p_score_knn= np.mean(cross_val_score(knn,  X_test_pca, y_test, scoring='precision'))\n",
        "r_score_knn = np.mean(cross_val_score(knn,  X_test_pca, y_test, scoring='recall'))\n",
        "print(\"Accuracy for knn: %s\" % '{:.2%}'.format(score_knn))\n",
        "print ('Precision for knn: %s' %'{:.2%}' .format(p_score_knn))\n",
        "print ('Recall score for knn: %s' % '{:.2%}'.format(r_score_knn))\n"
      ],
      "execution_count": 0,
      "outputs": [
        {
          "output_type": "stream",
          "text": [
            "Accuracy for knn_cv: 87.73%\n",
            "Precision for knn_cv: 62.79%\n",
            "Recall score for knn_cv: 32.13%\n",
            "Accuracy for knn: 87.33%\n",
            "Precision for knn: 57.77%\n",
            "Recall score for knn: 38.45%\n"
          ],
          "name": "stdout"
        }
      ]
    },
    {
      "cell_type": "code",
      "metadata": {
        "id": "5utz72H3FsOp",
        "colab_type": "code",
        "outputId": "b1d5d660-b72c-4f3c-bf26-3a06cdebca9d",
        "colab": {
          "base_uri": "https://localhost:8080/",
          "height": 72
        }
      },
      "source": [
        "svc=SVC(random_state=1)\n",
        "scores_svc = np.mean(cross_val_score(svc,  X_train_pca, y_train, scoring='accuracy'))\n",
        "p_score_svc = np.mean(cross_val_score(svc,  X_test_pca, y_test, scoring='precision'))\n",
        "r_score_svc = np.mean(cross_val_score(svc,  X_test_pca, y_test, scoring='recall'))\n",
        "print(\"Accuracy for svc: %s\" % '{:.2%}'.format(scores_svc))\n",
        "print ('Precision for svc: %s' %'{:.2%}' .format(p_score_svc))\n",
        "print ('Recall score for svc: %s' % '{:.2%}'.format(r_score_svc))"
      ],
      "execution_count": 0,
      "outputs": [
        {
          "output_type": "stream",
          "text": [
            "Accuracy for svc: 88.24%\n",
            "Precision for svc: 68.86%\n",
            "Recall score for svc: 31.83%\n"
          ],
          "name": "stdout"
        }
      ]
    },
    {
      "cell_type": "code",
      "metadata": {
        "id": "j0AUKYRgFwok",
        "colab_type": "code",
        "outputId": "28c8aeb8-9218-44cf-b1ca-0bc7f9001b9f",
        "colab": {
          "base_uri": "https://localhost:8080/",
          "height": 35
        }
      },
      "source": [
        "svc=SVC(random_state=1)\n",
        "param_grid = {\"C\": [0.001,0.1,1,10], 'degree':[1,3,10]}\n",
        "svc_cv=GridSearchCV(svc,param_grid=param_grid,cv = 3, n_jobs = -1, verbose = 0)\n",
        "svc_cv.fit(X_train_pca, y_train)\n",
        "svc_cv.best_params_"
      ],
      "execution_count": 0,
      "outputs": [
        {
          "output_type": "execute_result",
          "data": {
            "text/plain": [
              "{'C': 1, 'degree': 1}"
            ]
          },
          "metadata": {
            "tags": []
          },
          "execution_count": 255
        }
      ]
    },
    {
      "cell_type": "code",
      "metadata": {
        "id": "MFaWV4ZnF0Fo",
        "colab_type": "code",
        "outputId": "02f6d4e9-ab76-4754-8435-f4945c8cbbd9",
        "colab": {
          "base_uri": "https://localhost:8080/",
          "height": 126
        }
      },
      "source": [
        "svc_cv= SVC(random_state=1, C=1, degree=1)\n",
        "score_svc_cv = np.mean(cross_val_score(svc_cv,  X_test_pca, y_test, scoring='accuracy'))\n",
        "p_score_svc_cv = np.mean(cross_val_score(svc_cv,  X_test_pca, y_test, scoring='precision'))\n",
        "r_score_svc_cv = np.mean(cross_val_score(svc_cv,  X_test_pca, y_test, scoring='recall'))\n",
        "print(\"Accuracy for svc_cv: %s\" % '{:.2%}'.format(score_svc_cv))\n",
        "print ('Precision for svc_cv: %s' %'{:.2%}' .format(p_score_svc_cv))\n",
        "print ('Recall score for svc_cv: %s' % '{:.2%}'.format(r_score_svc_cv))\n",
        "\n",
        "score_svc = np.mean(cross_val_score(svc,  X_test_pca, y_test, scoring='accuracy'))\n",
        "p_score_svc= np.mean(cross_val_score(svc,  X_test_pca, y_test, scoring='precision'))\n",
        "r_score_svc = np.mean(cross_val_score(svc,  X_test_pca, y_test, scoring='recall'))\n",
        "print(\"Accuracy for svc: %s\" % '{:.2%}'.format(score_svc))\n",
        "print ('Precision for svc: %s' %'{:.2%}' .format(p_score_svc))\n",
        "print ('Recall score for svc: %s' % '{:.2%}'.format(r_score_svc))"
      ],
      "execution_count": 0,
      "outputs": [
        {
          "output_type": "stream",
          "text": [
            "Accuracy for svc_cv: 88.35%\n",
            "Precision for svc_cv: 68.86%\n",
            "Recall score for svc_cv: 31.83%\n",
            "Accuracy for svc: 88.35%\n",
            "Precision for svc: 68.86%\n",
            "Recall score for svc: 31.83%\n"
          ],
          "name": "stdout"
        }
      ]
    },
    {
      "cell_type": "code",
      "metadata": {
        "id": "kSOoLXM5GEoZ",
        "colab_type": "code",
        "outputId": "7681a75e-53f0-4ae1-ca1a-4a494db75bb7",
        "colab": {
          "base_uri": "https://localhost:8080/",
          "height": 72
        }
      },
      "source": [
        "dt=DecisionTreeClassifier(random_state=7)\n",
        "score_dt = np.mean(cross_val_score(dt,  X_train_pca, y_train, scoring='accuracy'))\n",
        "p_score_dt = np.mean(cross_val_score(dt,  X_train_pca, y_train, scoring='precision'))\n",
        "r_score_dt = np.mean(cross_val_score(dt,  X_train_pca, y_train, scoring='recall'))\n",
        "print(\"Accuracy for Decision Tree: %s\" % '{:.2%}'.format(score_dt))\n",
        "print ('Precision Decision Tree: %s' %'{:.2%}' .format(p_score_dt))\n",
        "print ('Recall score Decision Tree: %s' % '{:.2%}'.format(r_score_dt))"
      ],
      "execution_count": 0,
      "outputs": [
        {
          "output_type": "stream",
          "text": [
            "Accuracy for Decision Tree: 83.46%\n",
            "Precision Decision Tree: 40.85%\n",
            "Recall score Decision Tree: 39.38%\n"
          ],
          "name": "stdout"
        }
      ]
    },
    {
      "cell_type": "code",
      "metadata": {
        "id": "mh2CXcrtGKY-",
        "colab_type": "code",
        "outputId": "305c7042-c4de-4ce5-e5da-958b2482f5a4",
        "colab": {
          "base_uri": "https://localhost:8080/",
          "height": 72
        }
      },
      "source": [
        "rf=RandomForestClassifier(random_state=21)\n",
        "score_rf = np.mean(cross_val_score(rf,  X_train_pca, y_train, scoring='accuracy'))\n",
        "p_score_rf = np.mean(cross_val_score(rf,  X_train_pca, y_train, scoring='precision'))\n",
        "r_score_rf = np.mean(cross_val_score(rf,  X_train_pca, y_train, scoring='recall'))\n",
        "print(\"Accuracy for RandomForest: %s\" % '{:.2%}'.format(score_rf))\n",
        "print ('Precision RandomForest:: %s' %'{:.2%}' .format(p_score_rf))\n",
        "print ('Recall score RandomForest:: %s' % '{:.2%}'.format(r_score_rf))"
      ],
      "execution_count": 0,
      "outputs": [
        {
          "output_type": "stream",
          "text": [
            "Accuracy for RandomForest: 86.23%\n",
            "Precision RandomForest:: 51.64%\n",
            "Recall score RandomForest:: 32.94%\n"
          ],
          "name": "stdout"
        }
      ]
    },
    {
      "cell_type": "code",
      "metadata": {
        "id": "I2_LLIYVGNej",
        "colab_type": "code",
        "colab": {}
      },
      "source": [
        "param_grid = {'max_depth': [80, 90, 100, 110],\n",
        "              'max_features': [2, 3],\n",
        "              'min_samples_leaf': [3, 4, 5],\n",
        "              'min_samples_split': [8, 10, 12],\n",
        "              'n_estimators': [100, 200, 300, 1000]}\n",
        "# Create a basic model\n",
        "rf = RandomForestClassifier(random_state=21)\n",
        "# Instantiate the grid search model\n",
        "rf_cv = GridSearchCV(estimator = rf, param_grid = param_grid, \n",
        "                          cv = 3, n_jobs = -1, verbose = 0)\n",
        "rf_cv.fit(X_train_pca, y_train)\n",
        "print(rf_cv.best_params_)\n",
        "score=rf_cv.best_score_\n",
        "print(\"Accuracy: %s\" % '{:.2%}'.format(score))"
      ],
      "execution_count": 0,
      "outputs": []
    },
    {
      "cell_type": "code",
      "metadata": {
        "id": "trDrFTPoGSr6",
        "colab_type": "code",
        "colab": {}
      },
      "source": [
        "rf_cv=RandomForestClassifier(random_state=21,max_depth= 80, max_features= 3,min_samples_leaf= 5, \n",
        "                          min_samples_split=8,n_estimators= 100)\n",
        "score_rf_cv = np.mean(cross_val_score(rf_cv,  X_test_pca, y_test, scoring='accuracy'))\n",
        "print(\"Accuracy for rf_cv: %s\" % '{:.2%}'.format(score_rf_cv))\n",
        "\n",
        "score_rf = np.mean(cross_val_score(rf,  X_test_pca, y_test, scoring='accuracy'))\n",
        "print(\"Accuracy for rf: %s\" % '{:.2%}'.format(score_rf))"
      ],
      "execution_count": 0,
      "outputs": []
    },
    {
      "cell_type": "markdown",
      "metadata": {
        "id": "4PZwqN85HHxp",
        "colab_type": "text"
      },
      "source": [
        "### First Models "
      ]
    },
    {
      "cell_type": "code",
      "metadata": {
        "id": "OQ31h_DLGXKy",
        "colab_type": "code",
        "colab": {}
      },
      "source": [
        "# Importing Models\n",
        "from sklearn.linear_model import LogisticRegression\n",
        "from sklearn.tree import DecisionTreeClassifier\n",
        "from sklearn.discriminant_analysis import LinearDiscriminantAnalysis\n",
        "from sklearn.ensemble import AdaBoostClassifier, RandomForestClassifier, GradientBoostingClassifier\n",
        "from sklearn.neighbors import KNeighborsClassifier\n",
        "from sklearn.svm import SVC, LinearSVC\n",
        "from xgboost import XGBClassifier\n",
        "\n",
        "# Importing other tools\n",
        "from sklearn.metrics import confusion_matrix, classification_report, make_scorer\n",
        "from sklearn.metrics import accuracy_score, recall_score, precision_recall_curve\n",
        "from sklearn.model_selection import StratifiedKFold, cross_validate\n",
        "from sklearn.preprocessing import StandardScaler\n",
        "from sklearn.pipeline import Pipeline\n",
        "from sklearn.calibration import CalibratedClassifierCV"
      ],
      "execution_count": 0,
      "outputs": []
    },
    {
      "cell_type": "code",
      "metadata": {
        "id": "t2TKaEMuHKnN",
        "colab_type": "code",
        "colab": {}
      },
      "source": [
        "#defining random seed\n",
        "seed=8\n",
        "\n",
        "# Creating Models\n",
        "logreg = LogisticRegression(solver='lbfgs', random_state=seed)\n",
        "lda = LinearDiscriminantAnalysis()\n",
        "svc = SVC(random_state=seed, probability=True)\n",
        "lin_svc = LinearSVC(random_state=seed)\n",
        "l_svc = CalibratedClassifierCV(lin_svc, cv=5)\n",
        "dtree = DecisionTreeClassifier(random_state=seed)\n",
        "rf = RandomForestClassifier(10, random_state=seed)\n",
        "gdb = GradientBoostingClassifier(random_state=seed)\n",
        "adb = AdaBoostClassifier(random_state=seed)\n",
        "xgb = XGBClassifier(random_state=seed)\n",
        "knn = KNeighborsClassifier()\n",
        "\n",
        "first_models = [logreg, lda, svc, l_svc,\n",
        "                dtree, rf, gdb, adb, xgb, knn]\n",
        "first_model_names = ['Logistic Regression', 'LDA', 'SVC', 'Linear SVC',\n",
        "                    'Decision Tree', 'Random Forest', 'GradientBoosting',\n",
        "                    'AdaBoost', 'XGB', 'K-Neighbors'] \n",
        "\n",
        "# Defining other steps\n",
        "n_folds = 5\n",
        "skf = StratifiedKFold(n_splits=n_folds, random_state=seed)\n",
        "std_sca = StandardScaler()\n"
      ],
      "execution_count": 0,
      "outputs": []
    },
    {
      "cell_type": "code",
      "metadata": {
        "id": "UHPxDcmCHO1D",
        "colab_type": "code",
        "colab": {}
      },
      "source": [
        "train_size = X_train.shape[0]\n",
        "n_models = len(first_models)\n",
        "oof_pred = np.zeros((train_size, n_models))\n",
        "scores = []\n",
        "\n",
        "for n, model in enumerate(first_models):\n",
        "    model_pipeline = Pipeline(steps=[('Scaler', std_sca),\n",
        "                                     ('Estimator', model)])\n",
        "    accuracy = np.zeros(n_folds)\n",
        "    recall = np.zeros(n_folds)\n",
        "    \n",
        "    for i, (train_ix, val_ix) in enumerate(skf.split(X_train, y_train)):\n",
        "        x_tr,  y_tr  = X_train.iloc[train_ix], y_train.iloc[train_ix]\n",
        "        x_val, y_val = X_train.iloc[val_ix],   y_train.iloc[val_ix]\n",
        "        \n",
        "        model_pipeline.fit(x_tr, y_tr)\n",
        "        val_pred = model_pipeline.predict(x_val)\n",
        "        \n",
        "        oof_pred[val_ix, n] = model_pipeline.predict_proba(x_val)[:,1]\n",
        "        \n",
        "        fold_acc = accuracy_score(y_val, val_pred)\n",
        "        fold_rec = recall_score(y_val, val_pred)\n",
        "        \n",
        "        accuracy[i] = fold_acc\n",
        "        recall[i] = fold_rec\n",
        "    \n",
        "    scores.append({'Accuracy'          : accuracy.mean(),\n",
        "                   'Recall'            : recall.mean()})"
      ],
      "execution_count": 0,
      "outputs": []
    },
    {
      "cell_type": "code",
      "metadata": {
        "id": "oul7HDgZHZyu",
        "colab_type": "code",
        "colab": {}
      },
      "source": [
        "measure_cols = ['Accuracy', 'Recall']#, 'Accuracy Std.Dev.', 'Recall Std.Dev.']\n",
        "\n",
        "first_scores = pd.DataFrame(columns=measure_cols)\n",
        "\n",
        "for name, score in zip(first_model_names, scores):\n",
        "    \n",
        "    new_row = pd.Series(data=score, name=name)\n",
        "    first_scores = first_scores.append(new_row)\n",
        "    \n",
        "first_scores = first_scores.sort_values('Recall', ascending=False)\n",
        "first_scores"
      ],
      "execution_count": 0,
      "outputs": []
    },
    {
      "cell_type": "code",
      "metadata": {
        "id": "-V7_3T9bIJbT",
        "colab_type": "code",
        "colab": {}
      },
      "source": [
        "submission = pd.DataFrame(index=test.index,columns=['uniqueid','bank_account'])\n",
        "\n",
        "submission['uniqueid'] = test['uniqueid']\n",
        "\n",
        "submission['bank_account'] = amodel.predict(X_test)\n",
        "\n",
        "## create submit_file\n",
        "\n",
        "submission.to_csv('yourpath.csv',index=False)"
      ],
      "execution_count": 0,
      "outputs": []
    },
    {
      "cell_type": "code",
      "metadata": {
        "id": "S8HXv9HVIKiI",
        "colab_type": "code",
        "colab": {}
      },
      "source": [
        "submission = pd.DataFrame(index=test.index,columns=['uniqueid','bank_account'])\n",
        "\n",
        "submission['uniqueid'] = test['uniqueid']\n",
        "\n",
        "submission['bank_account'] = amodel.predict(X_test)\n",
        "\n",
        "## create submit_file\n",
        "\n",
        "submission.to_csv('yourpath.csv',index=False)"
      ],
      "execution_count": 0,
      "outputs": []
    }
  ]
}